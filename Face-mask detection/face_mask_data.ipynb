{
 "cells": [
  {
   "cell_type": "code",
   "execution_count": 9,
   "id": "13b1d54e",
   "metadata": {},
   "outputs": [],
   "source": [
    "import numpy as np\n",
    "import cv2 as cv\n",
    "import matplotlib.pyplot as plt\n",
    "import tensorflow as tf\n",
    "from tensorflow import keras\n",
    "from tensorflow.keras import layers\n",
    "import os\n",
    "from tqdm import tqdm\n",
    "import random\n",
    "import pickle"
   ]
  },
  {
   "cell_type": "markdown",
   "id": "ce25b238",
   "metadata": {},
   "source": [
    "# Providing paths of the dataset"
   ]
  },
  {
   "cell_type": "code",
   "execution_count": 10,
   "id": "9b62a3d6",
   "metadata": {},
   "outputs": [],
   "source": [
    "notebook_path = os.path.abspath(\"face_mask_data.ipynb\")\n",
    "Dataset_path = os.path.join(os.path.dirname(notebook_path),'Dataset')\n",
    "train_path = os.path.join(Dataset_path,'Train')\n",
    "test_path = os.path.join(Dataset_path,'Test')\n",
    "valid_path = os.path.join(Dataset_path,'Validation')"
   ]
  },
  {
   "cell_type": "markdown",
   "id": "b5c1880b",
   "metadata": {},
   "source": [
    "# Collecting the class names in an array"
   ]
  },
  {
   "cell_type": "code",
   "execution_count": 11,
   "id": "9a08ffb0",
   "metadata": {},
   "outputs": [
    {
     "name": "stdout",
     "output_type": "stream",
     "text": [
      "['Mask', 'Non Mask']\n"
     ]
    }
   ],
   "source": [
    "categories = []\n",
    "IMG_SIZE = 227\n",
    "\n",
    "for i in os.listdir(train_path):\n",
    "    categories.append(i)\n",
    "    \n",
    "print(categories)"
   ]
  },
  {
   "cell_type": "markdown",
   "id": "525648ee",
   "metadata": {},
   "source": [
    "# Function to read image from path specified and convert it into an array"
   ]
  },
  {
   "cell_type": "code",
   "execution_count": 12,
   "id": "bb00ee3a",
   "metadata": {},
   "outputs": [],
   "source": [
    "def createData(path):\n",
    "    array = []\n",
    "    \n",
    "    for c in categories:\n",
    "        class_num=[]\n",
    "        path_name = os.path.join(path,c)\n",
    "        class_num.append(categories.index(c))\n",
    "        for img in tqdm(os.listdir(path_name)):\n",
    "            try:\n",
    "                img_array = cv.imread(os.path.join(path_name,img))\n",
    "                img_resized = cv.resize(img_array,(IMG_SIZE,IMG_SIZE))\n",
    "                array.append([img_resized,class_num])\n",
    "            except Exception as e:\n",
    "                pass\n",
    "    return array"
   ]
  },
  {
   "cell_type": "markdown",
   "id": "5853f142",
   "metadata": {},
   "source": [
    "# Converting train,test and validation data into an array suing the function defined"
   ]
  },
  {
   "cell_type": "code",
   "execution_count": 13,
   "id": "d8cc2857",
   "metadata": {},
   "outputs": [
    {
     "name": "stderr",
     "output_type": "stream",
     "text": [
      "100%|██████████| 300/300 [00:03<00:00, 81.91it/s] \n",
      "100%|██████████| 300/300 [00:00<00:00, 432.53it/s]\n",
      "100%|██████████| 50/50 [00:00<00:00, 84.08it/s] \n",
      "100%|██████████| 50/50 [00:00<00:00, 82.19it/s]\n",
      "100%|██████████| 153/153 [00:02<00:00, 58.88it/s] \n",
      "100%|██████████| 153/153 [00:01<00:00, 81.56it/s]\n"
     ]
    }
   ],
   "source": [
    "train = createData(train_path)\n",
    "test = createData(test_path)\n",
    "valid = createData(valid_path)"
   ]
  },
  {
   "cell_type": "markdown",
   "id": "505d403d",
   "metadata": {},
   "source": [
    "# Function to separate class names from the image"
   ]
  },
  {
   "cell_type": "markdown",
   "id": "37ccdae0",
   "metadata": {},
   "source": [
    "- The previous array had the image and the class names in a 2-dimensional array which was appended in anothr empty array. \n",
    "- Which created a 3-dimensional array. The inner most array had [image,classname] format for keeping the sequence of the image and the classes the belong to. \n",
    "- If kept separately the sequence would have lost due to shuffling. The function below is used to separate the images from their respective classnames. "
   ]
  },
  {
   "cell_type": "code",
   "execution_count": 15,
   "id": "4803441e",
   "metadata": {},
   "outputs": [],
   "source": [
    "def dataLabelSeparation(data):\n",
    "    X_data = []\n",
    "    y_label = []\n",
    "    \n",
    "    random.shuffle(data) #Shuffling the data before separating the labels/classnames\n",
    "    \n",
    "    for img,label in data:\n",
    "        X_data.append(img)\n",
    "        y_label.append(label)\n",
    "        \n",
    "    X_data = np.array(X_data).astype('float32')\n",
    "    y_label = np.array(y_label)\n",
    "    \n",
    "    return X_data,y_label"
   ]
  },
  {
   "cell_type": "markdown",
   "id": "67422079",
   "metadata": {},
   "source": [
    "# Separating the image and classname for train,test and validation data"
   ]
  },
  {
   "cell_type": "code",
   "execution_count": 16,
   "id": "ae109677",
   "metadata": {},
   "outputs": [],
   "source": [
    "X_train,y_train = dataLabelSeparation(train)\n",
    "X_test,y_test = dataLabelSeparation(test)\n",
    "X_valid,y_valid = dataLabelSeparation(valid)"
   ]
  },
  {
   "cell_type": "markdown",
   "id": "a4d076b5",
   "metadata": {},
   "source": [
    "# Storing the train, test and validation data and labels in a pickle file"
   ]
  },
  {
   "cell_type": "code",
   "execution_count": 17,
   "id": "d08dc347",
   "metadata": {},
   "outputs": [],
   "source": [
    "pickle_out = open(\"./resources/data/face_mask/X_train.pickle\",\"wb\")\n",
    "pickle.dump(X_train, pickle_out)\n",
    "pickle_out.close()\n",
    "\n",
    "pickle_out = open(\"./resources/data/face_mask/y_train.pickle\",\"wb\")\n",
    "pickle.dump(y_train, pickle_out)\n",
    "pickle_out.close()\n",
    "\n",
    "pickle_out = open(\"./resources/data/face_mask/X_valid.pickle\",\"wb\")\n",
    "pickle.dump(X_valid, pickle_out)\n",
    "pickle_out.close()\n",
    "\n",
    "pickle_out = open(\"./resources/data/face_mask/y_valid.pickle\",\"wb\")\n",
    "pickle.dump(y_valid, pickle_out)\n",
    "pickle_out.close()\n",
    "\n",
    "pickle_out = open(\"./resources/data/face_mask/X_test.pickle\",\"wb\")\n",
    "pickle.dump(X_test, pickle_out)\n",
    "pickle_out.close()\n",
    "\n",
    "pickle_out = open(\"./resources/data/face_mask/y_test.pickle\",\"wb\")\n",
    "pickle.dump(y_test, pickle_out)\n",
    "pickle_out.close()"
   ]
  }
 ],
 "metadata": {
  "kernelspec": {
   "display_name": "Python 3",
   "language": "python",
   "name": "python3"
  },
  "language_info": {
   "codemirror_mode": {
    "name": "ipython",
    "version": 3
   },
   "file_extension": ".py",
   "mimetype": "text/x-python",
   "name": "python",
   "nbconvert_exporter": "python",
   "pygments_lexer": "ipython3",
   "version": "3.8.8"
  }
 },
 "nbformat": 4,
 "nbformat_minor": 5
}
