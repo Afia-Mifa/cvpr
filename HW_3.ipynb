{
 "cells": [
  {
   "cell_type": "code",
   "execution_count": 1,
   "id": "60e54add",
   "metadata": {},
   "outputs": [],
   "source": [
    "import matplotlib.pyplot as plt\n",
    "import random\n",
    "import math"
   ]
  },
  {
   "cell_type": "markdown",
   "id": "bb53056e",
   "metadata": {},
   "source": [
    "# Data generation"
   ]
  },
  {
   "cell_type": "markdown",
   "id": "81ea9195",
   "metadata": {},
   "source": [
    "The data has been generated with the condition, if(distance of a point from the point (50,50)<=30,1,0)\n",
    "\n"
   ]
  },
  {
   "cell_type": "markdown",
   "id": "ea4a27d0",
   "metadata": {},
   "source": [
    "\n"
   ]
  },
  {
   "cell_type": "code",
   "execution_count": 2,
   "id": "dbb6af5d",
   "metadata": {},
   "outputs": [
    {
     "data": {
      "text/html": [
       "<div>\n",
       "<style scoped>\n",
       "    .dataframe tbody tr th:only-of-type {\n",
       "        vertical-align: middle;\n",
       "    }\n",
       "\n",
       "    .dataframe tbody tr th {\n",
       "        vertical-align: top;\n",
       "    }\n",
       "\n",
       "    .dataframe thead th {\n",
       "        text-align: right;\n",
       "    }\n",
       "</style>\n",
       "<table border=\"1\" class=\"dataframe\">\n",
       "  <thead>\n",
       "    <tr style=\"text-align: right;\">\n",
       "      <th></th>\n",
       "      <th>X1</th>\n",
       "      <th>X2</th>\n",
       "      <th>Y</th>\n",
       "    </tr>\n",
       "  </thead>\n",
       "  <tbody>\n",
       "    <tr>\n",
       "      <th>0</th>\n",
       "      <td>98</td>\n",
       "      <td>56</td>\n",
       "      <td>0</td>\n",
       "    </tr>\n",
       "    <tr>\n",
       "      <th>1</th>\n",
       "      <td>57</td>\n",
       "      <td>91</td>\n",
       "      <td>0</td>\n",
       "    </tr>\n",
       "    <tr>\n",
       "      <th>2</th>\n",
       "      <td>60</td>\n",
       "      <td>7</td>\n",
       "      <td>0</td>\n",
       "    </tr>\n",
       "    <tr>\n",
       "      <th>3</th>\n",
       "      <td>7</td>\n",
       "      <td>82</td>\n",
       "      <td>0</td>\n",
       "    </tr>\n",
       "    <tr>\n",
       "      <th>4</th>\n",
       "      <td>20</td>\n",
       "      <td>73</td>\n",
       "      <td>0</td>\n",
       "    </tr>\n",
       "  </tbody>\n",
       "</table>\n",
       "</div>"
      ],
      "text/plain": [
       "   X1  X2  Y\n",
       "0  98  56  0\n",
       "1  57  91  0\n",
       "2  60   7  0\n",
       "3   7  82  0\n",
       "4  20  73  0"
      ]
     },
     "execution_count": 2,
     "metadata": {},
     "output_type": "execute_result"
    }
   ],
   "source": [
    "import pandas as pd\n",
    "\n",
    "df = pd.read_csv('../resource/data-4-2.csv')\n",
    "df.head()"
   ]
  },
  {
   "cell_type": "code",
   "execution_count": 3,
   "id": "fca725a1",
   "metadata": {},
   "outputs": [
    {
     "data": {
      "image/png": "[encoded data removed]",
      "text/plain": [
       "<Figure size 432x288 with 1 Axes>"
      ]
     },
     "metadata": {
      "needs_background": "light"
     },
     "output_type": "display_data"
    }
   ],
   "source": [
    "X1 = df[\"X1\"].values.tolist()\n",
    "X2 = df[\"X2\"].values.tolist()\n",
    "Y = df[\"Y\"].values.tolist()\n",
    "\n",
    "for i in range(len(Y)):\n",
    "    if Y[i] == 0:\n",
    "        plt.plot(X1[i], X2[i], \"r+\")\n",
    "    else:\n",
    "        plt.plot(X1[i], X2[i], \"b+\")\n"
   ]
  },
  {
   "cell_type": "markdown",
   "id": "8d665582",
   "metadata": {},
   "source": [
    "# Problem with the network"
   ]
  },
  {
   "cell_type": "markdown",
   "id": "6a6d3160",
   "metadata": {},
   "source": [
    "The neural network in this case is not learning. The loss is not decreasing. This could be due to issues in data, like: the data is not sufficient, the condition for the classification is faulty."
   ]
  },
  {
   "cell_type": "markdown",
   "id": "62143949",
   "metadata": {},
   "source": [
    "\n"
   ]
  },
  {
   "cell_type": "code",
   "execution_count": null,
   "id": "3a450961",
   "metadata": {},
   "outputs": [],
   "source": [
    "W = [random.random(), random.random()]\n",
    "b = random.random()\n",
    "\n",
    "print(W, b)\n",
    "\n",
    "lr=0.001\n",
    "activation_condition=0.5"
   ]
  },
  {
   "cell_type": "code",
   "execution_count": null,
   "id": "f7c8771a",
   "metadata": {},
   "outputs": [],
   "source": [
    "epoch = 0\n",
    "count_correct = 0\n",
    "\n",
    "while count_correct < 60 :\n",
    "    \n",
    "    total_error = 0\n",
    "    print(f\"Epoch: {epoch}\")\n",
    "    for i in range(len(X1)):\n",
    "        weighted_sum = W[0]*X1[i] + W[1]*X2[i] + b\n",
    "        pred = 0\n",
    "        if weighted_sum > activation_condition:\n",
    "            pred = 1\n",
    "        \n",
    "        error =  Y[i] - pred\n",
    "        if error != 0:\n",
    "            count_correct = 0\n",
    "            total_error += math.sqrt(error**2)\n",
    "            \n",
    "            W[0] += lr * error * X1[i]\n",
    "            W[1] += lr * error * X2[i]\n",
    "            b    += lr * error\n",
    "        else:\n",
    "            count_correct += 1\n",
    "\n",
    "        print(f\"[{X1[i]} , {X2[i]}] = {pred}\")\n",
    "    \n",
    "    print(f\"Loss: {total_error}\")\n",
    "    print(\"===------------------------------===\")\n",
    "    epoch += 1"
   ]
  },
  {
   "cell_type": "code",
   "execution_count": null,
   "id": "f0e68681",
   "metadata": {},
   "outputs": [],
   "source": [
    "plt.figure()\n",
    "\n",
    "for i in range(len(Y)):\n",
    "    if Y[i] == 0:\n",
    "        plt.plot(X1[i], X2[i], \"b+\")\n",
    "    else:\n",
    "        plt.plot(X1[i], X2[i], \"r+\")\n",
    "    \n",
    "plt.xlim([0, 110])\n",
    "plt.ylim([0, 110])\n",
    "\n",
    "xintr=(activation_condition-b)/W[0]\n",
    "yintr=(activation_condition-b)/W[1]\n",
    "\n",
    "slope=-yintr/xintr\n",
    "xx=plt.xlim()\n",
    "yeq = []\n",
    "\n",
    "for x in xx:\n",
    "    yeq.append(slope*x+yintr)\n",
    "\n",
    "plt.plot(xx,yeq)\n",
    "plt.show()"
   ]
  },
  {
   "cell_type": "code",
   "execution_count": null,
   "id": "7c15723e",
   "metadata": {},
   "outputs": [],
   "source": []
  },
  {
   "cell_type": "code",
   "execution_count": null,
   "id": "0acb601b",
   "metadata": {},
   "outputs": [],
   "source": []
  }
 ],
 "metadata": {
  "kernelspec": {
   "display_name": "Python 3",
   "language": "python",
   "name": "python3"
  },
  "language_info": {
   "codemirror_mode": {
    "name": "ipython",
    "version": 3
   },
   "file_extension": ".py",
   "mimetype": "text/x-python",
   "name": "python",
   "nbconvert_exporter": "python",
   "pygments_lexer": "ipython3",
   "version": "3.8.8"
  }
 },
 "nbformat": 4,
 "nbformat_minor": 5
}
