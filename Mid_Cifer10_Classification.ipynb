{
 "cells": [
  {
   "cell_type": "code",
   "execution_count": 1,
   "id": "f2fe9823",
   "metadata": {},
   "outputs": [],
   "source": [
    "import tensorflow as tf\n",
    "from tensorflow.keras import datasets, layers, models\n",
    "import matplotlib.pyplot as plt\n",
    "import numpy as np\n",
    "import math\n",
    "import cv2 as cv\n",
    "import glob\n",
    "import random\n",
    "import shutil\n",
    "import os\n",
    "from sklearn.utils import shuffle\n",
    "from datetime import datetime\n",
    "from tqdm.notebook import trange, tqdm"
   ]
  },
  {
   "cell_type": "markdown",
   "id": "642599ff",
   "metadata": {},
   "source": [
    "# Dataset description"
   ]
  },
  {
   "cell_type": "markdown",
   "id": "0d35b885",
   "metadata": {},
   "source": [
    "The Cifar-10 dataset includes 60000 images of 10 classes. The training set inclued 50000 images (5000 from each class). testing set inclues 10000 images (1000 from each class)."
   ]
  },
  {
   "cell_type": "markdown",
   "id": "43827c4d",
   "metadata": {},
   "source": [
    "# Data generation from images (Training)"
   ]
  },
  {
   "cell_type": "code",
   "execution_count": 2,
   "id": "b1df8ea9",
   "metadata": {},
   "outputs": [],
   "source": [
    "'''Training set containing 50000 images and 10 classes'''\n",
    "\n",
    "notebook_path = os.path.abspath(\"Cifer10_data_from_images.ipynb\")\n",
    "train_path_0 = os.path.join(os.path.dirname(notebook_path), \"CIFAR-10-images-master\\\\train\\\\airplane\")\n",
    "train_path_1 = os.path.join(os.path.dirname(notebook_path), \"CIFAR-10-images-master\\\\train\\\\automobile\")\n",
    "train_path_2 = os.path.join(os.path.dirname(notebook_path), \"CIFAR-10-images-master\\\\train\\\\bird\")\n",
    "train_path_3 = os.path.join(os.path.dirname(notebook_path), \"CIFAR-10-images-master\\\\train\\\\cat\")\n",
    "train_path_4 = os.path.join(os.path.dirname(notebook_path), \"CIFAR-10-images-master\\\\train\\\\deer\")\n",
    "train_path_5 = os.path.join(os.path.dirname(notebook_path), \"CIFAR-10-images-master\\\\train\\\\dog\")\n",
    "train_path_6 = os.path.join(os.path.dirname(notebook_path), \"CIFAR-10-images-master\\\\train\\\\frog\")\n",
    "train_path_7 = os.path.join(os.path.dirname(notebook_path), \"CIFAR-10-images-master\\\\train\\\\horse\")\n",
    "train_path_8 = os.path.join(os.path.dirname(notebook_path), \"CIFAR-10-images-master\\\\train\\\\ship\")\n",
    "train_path_9 = os.path.join(os.path.dirname(notebook_path), \"CIFAR-10-images-master\\\\train\\\\truck\")"
   ]
  },
  {
   "cell_type": "code",
   "execution_count": 3,
   "id": "397934da",
   "metadata": {},
   "outputs": [],
   "source": [
    "'''Function to read images from the folder and append it to training dataset'''\n",
    "\n",
    "X_train = []\n",
    "y_train = []\n",
    "\n",
    "def readImage(path,label_name,sample,label):\n",
    "    for img in path:\n",
    "        n = cv.imread(img)\n",
    "        sample.append(n)\n",
    "        label.append(label_name)"
   ]
  },
  {
   "cell_type": "code",
   "execution_count": 4,
   "id": "7eacf365",
   "metadata": {},
   "outputs": [],
   "source": [
    "'''Reading images from all 10 folders using the readImage() function'''\n",
    "\n",
    "path_0 = glob.glob(train_path_0+\"\\\\*.jpg\")\n",
    "path_1 = glob.glob(train_path_1+\"\\\\*.jpg\")\n",
    "path_2 = glob.glob(train_path_2+\"\\\\*.jpg\")\n",
    "path_3 = glob.glob(train_path_3+\"\\\\*.jpg\")\n",
    "path_4 = glob.glob(train_path_4+\"\\\\*.jpg\")\n",
    "path_5 = glob.glob(train_path_5+\"\\\\*.jpg\")\n",
    "path_6 = glob.glob(train_path_6+\"\\\\*.jpg\")\n",
    "path_7 = glob.glob(train_path_7+\"\\\\*.jpg\")\n",
    "path_8 = glob.glob(train_path_8+\"\\\\*.jpg\")\n",
    "path_9 = glob.glob(train_path_9+\"\\\\*.jpg\")\n",
    "\n",
    "readImage(path_0,0,X_train,y_train)\n",
    "readImage(path_1,1,X_train,y_train)\n",
    "readImage(path_2,2,X_train,y_train)\n",
    "readImage(path_3,3,X_train,y_train)\n",
    "readImage(path_4,4,X_train,y_train)\n",
    "readImage(path_5,5,X_train,y_train)\n",
    "readImage(path_6,6,X_train,y_train)\n",
    "readImage(path_7,7,X_train,y_train)\n",
    "readImage(path_8,8,X_train,y_train)\n",
    "readImage(path_9,9,X_train,y_train)"
   ]
  },
  {
   "cell_type": "code",
   "execution_count": 5,
   "id": "9624a1ab",
   "metadata": {},
   "outputs": [],
   "source": [
    "'''Converting the list to a numpy array and shuffling the arrays to remove order'''\n",
    "X_train = np.array(X_train)\n",
    "y_train = np.array(y_train)\n",
    "y_train,X_train = shuffle(y_train,X_train)"
   ]
  },
  {
   "cell_type": "code",
   "execution_count": 6,
   "id": "5115251b",
   "metadata": {},
   "outputs": [
    {
     "data": {
      "image/png": "[encoded data removed]",
      "text/plain": [
       "<Figure size 432x288 with 1 Axes>"
      ]
     },
     "metadata": {
      "needs_background": "light"
     },
     "output_type": "display_data"
    }
   ],
   "source": [
    "#Ploting a training image\n",
    "plt.figure()\n",
    "plt.imshow(X_train[7])\n",
    "plt.show()"
   ]
  },
  {
   "cell_type": "markdown",
   "id": "91facfc6",
   "metadata": {},
   "source": [
    "# Data generation from images (Testing)"
   ]
  },
  {
   "cell_type": "code",
   "execution_count": 7,
   "id": "95d3349f",
   "metadata": {},
   "outputs": [],
   "source": [
    "test_path_0 = os.path.join(os.path.dirname(notebook_path), \"CIFAR-10-images-master\\\\test\\\\airplane\")\n",
    "test_path_1 = os.path.join(os.path.dirname(notebook_path), \"CIFAR-10-images-master\\\\test\\\\automobile\")\n",
    "test_path_2 = os.path.join(os.path.dirname(notebook_path), \"CIFAR-10-images-master\\\\test\\\\bird\")\n",
    "test_path_3 = os.path.join(os.path.dirname(notebook_path), \"CIFAR-10-images-master\\\\test\\\\cat\")\n",
    "test_path_4 = os.path.join(os.path.dirname(notebook_path), \"CIFAR-10-images-master\\\\test\\\\deer\")\n",
    "test_path_5 = os.path.join(os.path.dirname(notebook_path), \"CIFAR-10-images-master\\\\test\\\\dog\")\n",
    "test_path_6 = os.path.join(os.path.dirname(notebook_path), \"CIFAR-10-images-master\\\\test\\\\frog\")\n",
    "test_path_7 = os.path.join(os.path.dirname(notebook_path), \"CIFAR-10-images-master\\\\test\\\\horse\")\n",
    "test_path_8 = os.path.join(os.path.dirname(notebook_path), \"CIFAR-10-images-master\\\\test\\\\ship\")\n",
    "test_path_9 = os.path.join(os.path.dirname(notebook_path), \"CIFAR-10-images-master\\\\test\\\\truck\")"
   ]
  },
  {
   "cell_type": "code",
   "execution_count": 8,
   "id": "45cc5ebe",
   "metadata": {},
   "outputs": [],
   "source": [
    "X_test = []\n",
    "y_test = []"
   ]
  },
  {
   "cell_type": "code",
   "execution_count": 9,
   "id": "2315de5f",
   "metadata": {},
   "outputs": [],
   "source": [
    "path_0 = glob.glob(test_path_0+\"\\\\*.jpg\")\n",
    "path_1 = glob.glob(test_path_1+\"\\\\*.jpg\")\n",
    "path_2 = glob.glob(test_path_2+\"\\\\*.jpg\")\n",
    "path_3 = glob.glob(test_path_3+\"\\\\*.jpg\")\n",
    "path_4 = glob.glob(test_path_4+\"\\\\*.jpg\")\n",
    "path_5 = glob.glob(test_path_5+\"\\\\*.jpg\")\n",
    "path_6 = glob.glob(test_path_6+\"\\\\*.jpg\")\n",
    "path_7 = glob.glob(test_path_7+\"\\\\*.jpg\")\n",
    "path_8 = glob.glob(test_path_8+\"\\\\*.jpg\")\n",
    "path_9 = glob.glob(test_path_9+\"\\\\*.jpg\")\n",
    "\n",
    "readImage(path_0,0,X_test,y_test)\n",
    "readImage(path_1,1,X_test,y_test)\n",
    "readImage(path_2,2,X_test,y_test)\n",
    "readImage(path_3,3,X_test,y_test)\n",
    "readImage(path_4,4,X_test,y_test)\n",
    "readImage(path_5,5,X_test,y_test)\n",
    "readImage(path_6,6,X_test,y_test)\n",
    "readImage(path_7,7,X_test,y_test)\n",
    "readImage(path_8,8,X_test,y_test)\n",
    "readImage(path_9,9,X_test,y_test)"
   ]
  },
  {
   "cell_type": "code",
   "execution_count": 10,
   "id": "981e498c",
   "metadata": {},
   "outputs": [],
   "source": [
    "X_test = np.array(X_test)\n",
    "y_test = np.array(y_test)\n",
    "y_test,X_test = shuffle(y_test,X_test)"
   ]
  },
  {
   "cell_type": "markdown",
   "id": "ae20bc67",
   "metadata": {},
   "source": [
    "# Creating a smaller test batch of 10 elements from each class"
   ]
  },
  {
   "cell_type": "markdown",
   "id": "ffb4ba79",
   "metadata": {},
   "source": [
    "using all 10000 of the test images for varying K values takes an extremely long time. To reduce the time, smaller test batches of 100 images (10 from each class) has been moved to a folder named test_batch"
   ]
  },
  {
   "cell_type": "code",
   "execution_count": 11,
   "id": "3679ddf0",
   "metadata": {},
   "outputs": [],
   "source": [
    "'''Moving 10 images from the designated folder of each class to test_batch folder'''\n",
    "\n",
    "test_batch_path_0 = os.path.join(os.path.dirname(notebook_path), \"CIFAR-10-images-master\\\\test\")\n",
    "\n",
    "os.chdir(test_batch_path_0)\n",
    "if os.path.isdir('airplane/test_batch') is False:\n",
    "    os.makedirs('airplane/test_batch')\n",
    "    for airplane in random.sample(path_0,10):\n",
    "        shutil.move(airplane,'airplane/test_batch')\n",
    "        \n",
    "if os.path.isdir('automobile/test_batch') is False:\n",
    "    os.makedirs('automobile/test_batch')\n",
    "    for airplane in random.sample(path_1,10):\n",
    "        shutil.move(airplane,'automobile/test_batch')\n",
    "        \n",
    "if os.path.isdir('bird/test_batch') is False:\n",
    "    os.makedirs('bird/test_batch') \n",
    "    for airplane in random.sample(path_2,10):\n",
    "        shutil.move(airplane,'bird/test_batch')\n",
    "        \n",
    "if os.path.isdir('cat/test_batch') is False:\n",
    "    os.makedirs('cat/test_batch')\n",
    "    for airplane in random.sample(path_3,10):\n",
    "        shutil.move(airplane,'cat/test_batch')\n",
    "        \n",
    "if os.path.isdir('deer/test_batch') is False:\n",
    "    os.makedirs('deer/test_batch') \n",
    "    for airplane in random.sample(path_4,10):\n",
    "        shutil.move(airplane,'deer/test_batch')\n",
    "        \n",
    "if os.path.isdir('dog/test_batch') is False:\n",
    "    os.makedirs('dog/test_batch') \n",
    "    for airplane in random.sample(path_5,10):\n",
    "        shutil.move(airplane,'dog/test_batch')\n",
    "        \n",
    "if os.path.isdir('frog/test_batch') is False:\n",
    "    os.makedirs('frog/test_batch') \n",
    "    for airplane in random.sample(path_6,10):\n",
    "        shutil.move(airplane,'frog/test_batch')\n",
    "        \n",
    "if os.path.isdir('horse/test_batch') is False:\n",
    "    os.makedirs('horse/test_batch')\n",
    "    for airplane in random.sample(path_7,10):\n",
    "        shutil.move(airplane,'horse/test_batch')\n",
    "        \n",
    "if os.path.isdir('ship/test_batch') is False:\n",
    "    os.makedirs('ship/test_batch') \n",
    "    for airplane in random.sample(path_8,10):\n",
    "        shutil.move(airplane,'ship/test_batch')\n",
    "        \n",
    "if os.path.isdir('truck/test_batch') is False:\n",
    "    os.makedirs('truck/test_batch')\n",
    "    for airplane in random.sample(path_9,10):\n",
    "        shutil.move(airplane,'truck/test_batch')\n"
   ]
  },
  {
   "cell_type": "code",
   "execution_count": 12,
   "id": "ea3d9201",
   "metadata": {},
   "outputs": [],
   "source": [
    "X_test_batch = []\n",
    "y_test_batch = []"
   ]
  },
  {
   "cell_type": "code",
   "execution_count": 13,
   "id": "039b56dd",
   "metadata": {},
   "outputs": [],
   "source": [
    "batch_path_0 = glob.glob(test_path_0+\"\\\\test_batch\\\\*.jpg\")\n",
    "batch_path_1 = glob.glob(test_path_1+\"\\\\test_batch\\\\*.jpg\")\n",
    "batch_path_2 = glob.glob(test_path_2+\"\\\\test_batch\\\\*.jpg\")\n",
    "batch_path_3 = glob.glob(test_path_3+\"\\\\test_batch\\\\*.jpg\")\n",
    "batch_path_4 = glob.glob(test_path_4+\"\\\\test_batch\\\\*.jpg\")\n",
    "batch_path_5 = glob.glob(test_path_5+\"\\\\test_batch\\\\*.jpg\")\n",
    "batch_path_6 = glob.glob(test_path_6+\"\\\\test_batch\\\\*.jpg\")\n",
    "batch_path_7 = glob.glob(test_path_7+\"\\\\test_batch\\\\*.jpg\")\n",
    "batch_path_8 = glob.glob(test_path_8+\"\\\\test_batch\\\\*.jpg\")\n",
    "batch_path_9 = glob.glob(test_path_9+\"\\\\test_batch\\\\*.jpg\")\n",
    "\n",
    "readImage(batch_path_0,0,X_test_batch,y_test_batch)\n",
    "readImage(batch_path_1,1,X_test_batch,y_test_batch)\n",
    "readImage(batch_path_2,2,X_test_batch,y_test_batch)\n",
    "readImage(batch_path_3,3,X_test_batch,y_test_batch)\n",
    "readImage(batch_path_4,4,X_test_batch,y_test_batch)\n",
    "readImage(batch_path_5,5,X_test_batch,y_test_batch)\n",
    "readImage(batch_path_6,6,X_test_batch,y_test_batch)\n",
    "readImage(batch_path_7,7,X_test_batch,y_test_batch)\n",
    "readImage(batch_path_8,8,X_test_batch,y_test_batch)\n",
    "readImage(batch_path_9,9,X_test_batch,y_test_batch)"
   ]
  },
  {
   "cell_type": "code",
   "execution_count": 14,
   "id": "36329fda",
   "metadata": {},
   "outputs": [],
   "source": [
    "X_test_batch = np.array(X_test_batch)\n",
    "y_test_batch = np.array(y_test_batch)\n",
    "y_test_batch,X_test_batch = shuffle(y_test_batch,X_test_batch)"
   ]
  },
  {
   "cell_type": "markdown",
   "id": "8fa06320",
   "metadata": {},
   "source": [
    "# Supporting function for K-nearest neighbor implementation"
   ]
  },
  {
   "cell_type": "code",
   "execution_count": 15,
   "id": "6227ce44",
   "metadata": {},
   "outputs": [],
   "source": [
    "'''Function to count number of instances of a single class in list of classes'''\n",
    "\n",
    "def count_class(array,classname):\n",
    "    count = 0\n",
    "    indecies = np.where(np.equal(array,classname))\n",
    "    count = np.array(indecies).size\n",
    "    return count"
   ]
  },
  {
   "cell_type": "code",
   "execution_count": 16,
   "id": "30caea4e",
   "metadata": {},
   "outputs": [],
   "source": [
    "'''Function to find the class which occured the maximum times in a list of classes'''\n",
    "\n",
    "def majority(array):\n",
    "    count_list = []\n",
    "   \n",
    "    for i in range(10):\n",
    "        count_list.append(count_class(array,i))\n",
    "    majority = np.argmax(count_list)\n",
    "    \n",
    "    max_count = max(count_list)\n",
    "    most_occured_class = []\n",
    "    \n",
    "    for c in range(10):\n",
    "        if(max_count==count_list[c]):\n",
    "            most_occured_class.append(c)\n",
    "    \n",
    "    return most_occured_class"
   ]
  },
  {
   "cell_type": "markdown",
   "id": "b3f8534d",
   "metadata": {},
   "source": [
    "# Function to predicts the class of an image by K-nearest neighbor"
   ]
  },
  {
   "cell_type": "code",
   "execution_count": 17,
   "id": "9c8a9986",
   "metadata": {},
   "outputs": [],
   "source": [
    "def KNN(X_test,k):\n",
    "    neighbors = np.zeros(50000,dtype=int)\n",
    "    x_train = X_train.reshape(50000,3072).astype(np.int64)\n",
    "    x_test = X_test.reshape(3072).astype(np.int64)   \n",
    "\n",
    "    #Distance calculation\n",
    "    for img in range(0,50000):\n",
    "        dist = np.sqrt(sum(np.square(x_train[img]-x_test)))\n",
    "        neighbors[img] = dist\n",
    "    \n",
    "    #Getting the index of sorted distance values \n",
    "    nn_index = np.argsort(neighbors)\n",
    "    #Selecting k number of values from the sorted distnace index array (These are the nearest neighbors)\n",
    "    nn_index = nn_index[0:k]\n",
    "    #Finding the class of the nearest neighbors\n",
    "    nn_class = y_train[nn_index]\n",
    "    \n",
    "    nn_dist = [] \n",
    "    temp = []\n",
    "    y_pred = 0\n",
    "    \n",
    "    #Finding the predicted class by majority voting\n",
    "    \n",
    "    if(k<=2):\n",
    "        y_pred = nn_class[0]\n",
    "    if(k>2):\n",
    "        most_occured_class = majority(nn_class)\n",
    "        \n",
    "        if(len(most_occured_class)>1):\n",
    "            \n",
    "            for i in range(len(most_occured_class)):\n",
    "                temp = []\n",
    "                for j in range(k):                    \n",
    "                    if (nn_class[j]==most_occured_class[i]):\n",
    "                        temp.append(neighbors[nn_index[j]])\n",
    "                nn_dist.append(temp)\n",
    "                \n",
    "            x = np.argmin(nn_dist,axis=1)\n",
    "            min_dist = nn_dist[0][x[0]]\n",
    "            y_pred = most_occured_class[0]\n",
    "            \n",
    "            for m in range(len(most_occured_class)):\n",
    "                if(nn_dist[m][x[m]]<min_dist):\n",
    "                    min_dist = nn_dist[m][x[m]]\n",
    "                    y_pred = most_occured_class[m]\n",
    "        else:\n",
    "            y_pred = most_occured_class[0]\n",
    "              \n",
    "    return y_pred"
   ]
  },
  {
   "cell_type": "markdown",
   "id": "e479ccce",
   "metadata": {},
   "source": [
    "# Calculation of test accuracy for k value 1-20"
   ]
  },
  {
   "cell_type": "code",
   "execution_count": 18,
   "id": "8cbf6ce0",
   "metadata": {},
   "outputs": [],
   "source": [
    "def number_of_correctly_classified_images(x_test,y_test,numberOfTestImages,k):\n",
    "    start = datetime.now()\n",
    "    count = 0\n",
    "    accuracy = 0\n",
    "    y_pred = np.zeros(numberOfTestImages,dtype=int)\n",
    "    \n",
    "    for i in trange(numberOfTestImages):\n",
    "        pred = KNN(x_test[i],k)\n",
    "        y_pred[i] = pred\n",
    "        if (y_test[i] == pred):\n",
    "            count+=1\n",
    "    accuracy = (count*100)/numberOfTestImages\n",
    "    stop = datetime.now()\n",
    "    execution_time = (stop-start)\n",
    "    execution_time = execution_time\n",
    "    print(f\"Correctly classified image: {count}; Accuracy: {accuracy}; Execution time: {execution_time}\\n\")\n",
    "    return accuracy"
   ]
  },
  {
   "cell_type": "code",
   "execution_count": 19,
   "id": "67000c62",
   "metadata": {},
   "outputs": [
    {
     "name": "stdout",
     "output_type": "stream",
     "text": [
      "For K=1: \n"
     ]
    },
    {
     "data": {
      "application/vnd.jupyter.widget-view+json": {
       "model_id": "3ffd69710fa9440ab727f7b56df29746",
       "version_major": 2,
       "version_minor": 0
      },
      "text/plain": [
       "  0%|          | 0/100 [00:00<?, ?it/s]"
      ]
     },
     "metadata": {},
     "output_type": "display_data"
    },
    {
     "name": "stdout",
     "output_type": "stream",
     "text": [
      "Correctly classified image: 35; Accuracy: 35.0; Execution time: 0:15:53.912264\n",
      "\n",
      "For K=2: \n"
     ]
    },
    {
     "data": {
      "application/vnd.jupyter.widget-view+json": {
       "model_id": "6ac5043374264b8191b9be546f906a02",
       "version_major": 2,
       "version_minor": 0
      },
      "text/plain": [
       "  0%|          | 0/100 [00:00<?, ?it/s]"
      ]
     },
     "metadata": {},
     "output_type": "display_data"
    },
    {
     "name": "stdout",
     "output_type": "stream",
     "text": [
      "Correctly classified image: 35; Accuracy: 35.0; Execution time: 0:16:25.398359\n",
      "\n",
      "For K=3: \n"
     ]
    },
    {
     "data": {
      "application/vnd.jupyter.widget-view+json": {
       "model_id": "c1bfcead17e747668b3e3825f7bce940",
       "version_major": 2,
       "version_minor": 0
      },
      "text/plain": [
       "  0%|          | 0/100 [00:00<?, ?it/s]"
      ]
     },
     "metadata": {},
     "output_type": "display_data"
    },
    {
     "name": "stdout",
     "output_type": "stream",
     "text": [
      "Correctly classified image: 37; Accuracy: 37.0; Execution time: 0:15:54.878147\n",
      "\n",
      "For K=4: \n"
     ]
    },
    {
     "data": {
      "application/vnd.jupyter.widget-view+json": {
       "model_id": "6cfa733c3f254eecaec19580ed465738",
       "version_major": 2,
       "version_minor": 0
      },
      "text/plain": [
       "  0%|          | 0/100 [00:00<?, ?it/s]"
      ]
     },
     "metadata": {},
     "output_type": "display_data"
    },
    {
     "name": "stdout",
     "output_type": "stream",
     "text": [
      "Correctly classified image: 34; Accuracy: 34.0; Execution time: 0:15:45.289935\n",
      "\n",
      "For K=5: \n"
     ]
    },
    {
     "data": {
      "application/vnd.jupyter.widget-view+json": {
       "model_id": "9be9db4398a8415bb887a3e202fe942b",
       "version_major": 2,
       "version_minor": 0
      },
      "text/plain": [
       "  0%|          | 0/100 [00:00<?, ?it/s]"
      ]
     },
     "metadata": {},
     "output_type": "display_data"
    },
    {
     "name": "stdout",
     "output_type": "stream",
     "text": [
      "Correctly classified image: 33; Accuracy: 33.0; Execution time: 0:15:48.549027\n",
      "\n",
      "For K=6: \n"
     ]
    },
    {
     "data": {
      "application/vnd.jupyter.widget-view+json": {
       "model_id": "7b4a6dae7f9948f08827b9baf2fdfdb8",
       "version_major": 2,
       "version_minor": 0
      },
      "text/plain": [
       "  0%|          | 0/100 [00:00<?, ?it/s]"
      ]
     },
     "metadata": {},
     "output_type": "display_data"
    },
    {
     "name": "stdout",
     "output_type": "stream",
     "text": [
      "Correctly classified image: 32; Accuracy: 32.0; Execution time: 0:15:45.163680\n",
      "\n",
      "For K=7: \n"
     ]
    },
    {
     "data": {
      "application/vnd.jupyter.widget-view+json": {
       "model_id": "bb84990098fd4b3589974a03048abea9",
       "version_major": 2,
       "version_minor": 0
      },
      "text/plain": [
       "  0%|          | 0/100 [00:00<?, ?it/s]"
      ]
     },
     "metadata": {},
     "output_type": "display_data"
    },
    {
     "name": "stdout",
     "output_type": "stream",
     "text": [
      "Correctly classified image: 33; Accuracy: 33.0; Execution time: 0:15:45.984690\n",
      "\n",
      "For K=8: \n"
     ]
    },
    {
     "data": {
      "application/vnd.jupyter.widget-view+json": {
       "model_id": "3713bba714224078bb338b5e26bf371b",
       "version_major": 2,
       "version_minor": 0
      },
      "text/plain": [
       "  0%|          | 0/100 [00:00<?, ?it/s]"
      ]
     },
     "metadata": {},
     "output_type": "display_data"
    },
    {
     "name": "stdout",
     "output_type": "stream",
     "text": [
      "Correctly classified image: 30; Accuracy: 30.0; Execution time: 0:15:44.819967\n",
      "\n",
      "For K=9: \n"
     ]
    },
    {
     "data": {
      "application/vnd.jupyter.widget-view+json": {
       "model_id": "97285a89d1e440bb97fa967cbe98a1f1",
       "version_major": 2,
       "version_minor": 0
      },
      "text/plain": [
       "  0%|          | 0/100 [00:00<?, ?it/s]"
      ]
     },
     "metadata": {},
     "output_type": "display_data"
    },
    {
     "name": "stdout",
     "output_type": "stream",
     "text": [
      "Correctly classified image: 32; Accuracy: 32.0; Execution time: 0:15:48.642394\n",
      "\n",
      "For K=10: \n"
     ]
    },
    {
     "data": {
      "application/vnd.jupyter.widget-view+json": {
       "model_id": "5198ceb6bca546cf87dfc152fba13179",
       "version_major": 2,
       "version_minor": 0
      },
      "text/plain": [
       "  0%|          | 0/100 [00:00<?, ?it/s]"
      ]
     },
     "metadata": {},
     "output_type": "display_data"
    },
    {
     "name": "stdout",
     "output_type": "stream",
     "text": [
      "Correctly classified image: 31; Accuracy: 31.0; Execution time: 0:16:00.829940\n",
      "\n",
      "For K=11: \n"
     ]
    },
    {
     "data": {
      "application/vnd.jupyter.widget-view+json": {
       "model_id": "13449987f58141518b4dbc89df80e0f3",
       "version_major": 2,
       "version_minor": 0
      },
      "text/plain": [
       "  0%|          | 0/100 [00:00<?, ?it/s]"
      ]
     },
     "metadata": {},
     "output_type": "display_data"
    },
    {
     "name": "stdout",
     "output_type": "stream",
     "text": [
      "Correctly classified image: 31; Accuracy: 31.0; Execution time: 0:16:02.132802\n",
      "\n",
      "For K=12: \n"
     ]
    },
    {
     "data": {
      "application/vnd.jupyter.widget-view+json": {
       "model_id": "e044d06924ee4954847420c1627f5ce5",
       "version_major": 2,
       "version_minor": 0
      },
      "text/plain": [
       "  0%|          | 0/100 [00:00<?, ?it/s]"
      ]
     },
     "metadata": {},
     "output_type": "display_data"
    },
    {
     "name": "stdout",
     "output_type": "stream",
     "text": [
      "Correctly classified image: 32; Accuracy: 32.0; Execution time: 0:16:37.924809\n",
      "\n",
      "For K=13: \n"
     ]
    },
    {
     "data": {
      "application/vnd.jupyter.widget-view+json": {
       "model_id": "90125d5ceee54c39938a822e5d6e6cbf",
       "version_major": 2,
       "version_minor": 0
      },
      "text/plain": [
       "  0%|          | 0/100 [00:00<?, ?it/s]"
      ]
     },
     "metadata": {},
     "output_type": "display_data"
    },
    {
     "name": "stdout",
     "output_type": "stream",
     "text": [
      "Correctly classified image: 28; Accuracy: 28.0; Execution time: 0:15:47.636281\n",
      "\n",
      "For K=14: \n"
     ]
    },
    {
     "data": {
      "application/vnd.jupyter.widget-view+json": {
       "model_id": "8d273827ff764a33b7566f7b35952e9a",
       "version_major": 2,
       "version_minor": 0
      },
      "text/plain": [
       "  0%|          | 0/100 [00:00<?, ?it/s]"
      ]
     },
     "metadata": {},
     "output_type": "display_data"
    },
    {
     "name": "stdout",
     "output_type": "stream",
     "text": [
      "Correctly classified image: 28; Accuracy: 28.0; Execution time: 0:15:42.269792\n",
      "\n",
      "For K=15: \n"
     ]
    },
    {
     "data": {
      "application/vnd.jupyter.widget-view+json": {
       "model_id": "6c2532963ee0423e9384c7d46c6e7934",
       "version_major": 2,
       "version_minor": 0
      },
      "text/plain": [
       "  0%|          | 0/100 [00:00<?, ?it/s]"
      ]
     },
     "metadata": {},
     "output_type": "display_data"
    },
    {
     "name": "stdout",
     "output_type": "stream",
     "text": [
      "Correctly classified image: 28; Accuracy: 28.0; Execution time: 0:15:40.331736\n",
      "\n",
      "For K=16: \n"
     ]
    },
    {
     "data": {
      "application/vnd.jupyter.widget-view+json": {
       "model_id": "edf860d5047f4bb0aa0f9257eb6648da",
       "version_major": 2,
       "version_minor": 0
      },
      "text/plain": [
       "  0%|          | 0/100 [00:00<?, ?it/s]"
      ]
     },
     "metadata": {},
     "output_type": "display_data"
    },
    {
     "name": "stdout",
     "output_type": "stream",
     "text": [
      "Correctly classified image: 28; Accuracy: 28.0; Execution time: 0:15:57.876393\n",
      "\n",
      "For K=17: \n"
     ]
    },
    {
     "data": {
      "application/vnd.jupyter.widget-view+json": {
       "model_id": "6b3d1a6b0a7646fd843371af5252ceda",
       "version_major": 2,
       "version_minor": 0
      },
      "text/plain": [
       "  0%|          | 0/100 [00:00<?, ?it/s]"
      ]
     },
     "metadata": {},
     "output_type": "display_data"
    },
    {
     "name": "stdout",
     "output_type": "stream",
     "text": [
      "Correctly classified image: 29; Accuracy: 29.0; Execution time: 0:15:48.542498\n",
      "\n",
      "For K=18: \n"
     ]
    },
    {
     "data": {
      "application/vnd.jupyter.widget-view+json": {
       "model_id": "0841bd2d66474f5d90c63352d7adf3ee",
       "version_major": 2,
       "version_minor": 0
      },
      "text/plain": [
       "  0%|          | 0/100 [00:00<?, ?it/s]"
      ]
     },
     "metadata": {},
     "output_type": "display_data"
    },
    {
     "name": "stdout",
     "output_type": "stream",
     "text": [
      "Correctly classified image: 30; Accuracy: 30.0; Execution time: 0:16:03.426263\n",
      "\n",
      "For K=19: \n"
     ]
    },
    {
     "data": {
      "application/vnd.jupyter.widget-view+json": {
       "model_id": "dd19b8a728db4191b4d205c5156537fe",
       "version_major": 2,
       "version_minor": 0
      },
      "text/plain": [
       "  0%|          | 0/100 [00:00<?, ?it/s]"
      ]
     },
     "metadata": {},
     "output_type": "display_data"
    },
    {
     "name": "stdout",
     "output_type": "stream",
     "text": [
      "Correctly classified image: 30; Accuracy: 30.0; Execution time: 0:16:14.605118\n",
      "\n",
      "For K=20: \n"
     ]
    },
    {
     "data": {
      "application/vnd.jupyter.widget-view+json": {
       "model_id": "89cbee670bc847879e551b86b3e2a4ce",
       "version_major": 2,
       "version_minor": 0
      },
      "text/plain": [
       "  0%|          | 0/100 [00:00<?, ?it/s]"
      ]
     },
     "metadata": {},
     "output_type": "display_data"
    },
    {
     "name": "stdout",
     "output_type": "stream",
     "text": [
      "Correctly classified image: 31; Accuracy: 31.0; Execution time: 0:15:54.636913\n",
      "\n"
     ]
    }
   ],
   "source": [
    "accuracy = []\n",
    "k_values = np.arange(1,21)\n",
    "\n",
    "for k in range(1,21):\n",
    "    print(f'For K={k}: ')\n",
    "    accuracy.append(number_of_correctly_classified_images(X_test_batch,y_test_batch,100,k))    "
   ]
  },
  {
   "cell_type": "markdown",
   "id": "2a975368",
   "metadata": {},
   "source": [
    "# Plotting accuracy against different K values"
   ]
  },
  {
   "cell_type": "code",
   "execution_count": 20,
   "id": "65a8c8a3",
   "metadata": {},
   "outputs": [
    {
     "data": {
      "image/png": "[encoded data removed]",
      "text/plain": [
       "<Figure size 432x288 with 1 Axes>"
      ]
     },
     "metadata": {
      "needs_background": "light"
     },
     "output_type": "display_data"
    }
   ],
   "source": [
    "accuracy = np.array(accuracy)\n",
    "k_values = np.array(k_values)\n",
    "\n",
    "plt.figure()\n",
    "plt.plot(k_values,accuracy)\n",
    "plt.ylabel(\"Accuracy\")\n",
    "plt.xlabel(\"K values\")\n",
    "plt.title(\"Accuracy based on K values\\n\")\n",
    "plt.show()"
   ]
  },
  {
   "cell_type": "markdown",
   "id": "29b9c988",
   "metadata": {},
   "source": [
    "# Discussion"
   ]
  },
  {
   "cell_type": "markdown",
   "id": "40232c65",
   "metadata": {},
   "source": [
    "In this example of classification of CFAR-10 dataset pure machine learning approach has been taken. The difference between the pixel values of the training images and the test images is used as distance between each training image and test image. These distance values are then used to find K number of nearest neighbors for each test image among the 50000 training image. After than, majority voting method is used for K value above 2 to find the optimal prediction.Prediction has been made for 100 test images using K value from 1-20.\n",
    "\n",
    "In this approach the accuracy for 100 test images is at maximum 37% using K value as 3. By analyzing the graph, it is seen that by varying the value of K, the accuracy ranges from 28%-37%. As K is a hyperparameter decision on the optimal value of K can only be made through emperical calculation. In this case K value 1-3 seems optimal. K value may change by using more of the test data but as testing for the K value using 10000 images was extremly time consuing (About 2 Hours 45 mins for each K value) The test set has been reduced to 100 images only.\n",
    "\n",
    "Finally, taking pure machine learning approach for image classification is not yeilding satisfactory rate of accuracy. The prediction model using KNN is an extremely naive approach. This does not take into consideration any pattern, curve or shape but only the pixel value. This approach also has a huge increase in the time complexity with the increase of image data. The accuracy of image predictaion can be incraesed darmatically using a neural netwrok.So, it can be crearly deduced that the pure machine learning approach is inefficient. "
   ]
  }
 ],
 "metadata": {
  "kernelspec": {
   "display_name": "Python 3",
   "language": "python",
   "name": "python3"
  },
  "language_info": {
   "codemirror_mode": {
    "name": "ipython",
    "version": 3
   },
   "file_extension": ".py",
   "mimetype": "text/x-python",
   "name": "python",
   "nbconvert_exporter": "python",
   "pygments_lexer": "ipython3",
   "version": "3.8.8"
  }
 },
 "nbformat": 4,
 "nbformat_minor": 5
}
